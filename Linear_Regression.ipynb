{
  "nbformat": 4,
  "nbformat_minor": 0,
  "metadata": {
    "colab": {
      "provenance": []
    },
    "kernelspec": {
      "name": "python3",
      "display_name": "Python 3"
    },
    "language_info": {
      "name": "python"
    }
  },
  "cells": [
    {
      "cell_type": "code",
      "execution_count": 2,
      "metadata": {
        "id": "VgjGMpvgaJK7"
      },
      "outputs": [],
      "source": [
        "import torch\n",
        "import numpy as np\n",
        "import torch.nn as nn\n",
        "from sklearn import datasets\n",
        "import matplotlib.pyplot as plt"
      ]
    },
    {
      "cell_type": "code",
      "source": [
        "x_numpy, y_numpy=datasets.make_regression(n_samples=100, n_features=1, noise=20, random_state=1)"
      ],
      "metadata": {
        "id": "dqf8BBn9ac66"
      },
      "execution_count": 3,
      "outputs": []
    },
    {
      "cell_type": "code",
      "source": [
        "x=torch.from_numpy(x_numpy.astype(np.float32))\n",
        "y=torch.from_numpy(y_numpy.astype(np.float32))\n",
        "y=y.view(y.shape[0],1)"
      ],
      "metadata": {
        "id": "A7Yut7Xwa81E"
      },
      "execution_count": 4,
      "outputs": []
    },
    {
      "cell_type": "code",
      "source": [
        "n_samples,n_features=x.shape"
      ],
      "metadata": {
        "id": "Lu4yYrDxbW_D"
      },
      "execution_count": 5,
      "outputs": []
    },
    {
      "cell_type": "code",
      "source": [
        "#model\n",
        "input_size=n_features\n",
        "output_size=1\n",
        "model=nn.Linear(input_size,output_size)"
      ],
      "metadata": {
        "id": "QNg5XiOVbbgy"
      },
      "execution_count": 6,
      "outputs": []
    },
    {
      "cell_type": "code",
      "source": [
        "#loss and optimizer\n",
        "learning_rate=0.01\n",
        "criterion=nn.MSELoss()\n",
        "optimizer=torch.optim.SGD(model.parameters(),lr=learning_rate)"
      ],
      "metadata": {
        "id": "eV1VGAbXbwst"
      },
      "execution_count": 10,
      "outputs": []
    },
    {
      "cell_type": "code",
      "source": [
        "#traning loops\n",
        "num_epoch=100\n",
        "for epoch in range(num_epoch):\n",
        "\n",
        "  #forward\n",
        "  y_pred=model(x)\n",
        "  loss=criterion(y_pred,y)\n",
        "\n",
        "\n",
        "  #backward \n",
        "  loss.backward()\n",
        "  #update\n",
        "  optimizer.step()\n",
        "  optimizer.zero_grad()\n",
        "\n",
        "  if (epoch+1) % 10 ==0:\n",
        "    print(f\"epoch: {epoch} , loss: {loss.item():.3}\")\n",
        "\n",
        "#plot\n",
        "\n",
        "predicted=model(x).detach().numpy()\n",
        "\n",
        "plt.plot(x_numpy,y_numpy,\"ro\")\n",
        "plt.plot(x_numpy, predicted, \"b\")\n",
        "plt.show()\n"
      ],
      "metadata": {
        "colab": {
          "base_uri": "https://localhost:8080/",
          "height": 447
        },
        "id": "qHXIefi1cqrg",
        "outputId": "1ec27ba4-ba09-4272-8a3f-604850ae5ff4"
      },
      "execution_count": 11,
      "outputs": [
        {
          "output_type": "stream",
          "name": "stdout",
          "text": [
            "epoch: 9 , loss: 4.36e+03\n",
            "epoch: 19 , loss: 3.25e+03\n",
            "epoch: 29 , loss: 2.45e+03\n",
            "epoch: 39 , loss: 1.87e+03\n",
            "epoch: 49 , loss: 1.45e+03\n",
            "epoch: 59 , loss: 1.15e+03\n",
            "epoch: 69 , loss: 9.24e+02\n",
            "epoch: 79 , loss: 7.63e+02\n",
            "epoch: 89 , loss: 6.46e+02\n",
            "epoch: 99 , loss: 5.61e+02\n"
          ]
        },
        {
          "output_type": "display_data",
          "data": {
            "text/plain": [
              "<Figure size 432x288 with 1 Axes>"
            ],
            "image/png": "[encoded data removed]"
          },
          "metadata": {
            "needs_background": "light"
          }
        }
      ]
    }
  ]
}