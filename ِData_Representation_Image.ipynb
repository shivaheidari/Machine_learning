{
  "nbformat": 4,
  "nbformat_minor": 0,
  "metadata": {
    "colab": {
      "provenance": [],
      "collapsed_sections": []
    },
    "kernelspec": {
      "name": "python3",
      "display_name": "Python 3"
    },
    "language_info": {
      "name": "python"
    }
  },
  "cells": [
    {
      "cell_type": "markdown",
      "source": [
        "Images are represented as a collection of scalars (grayscale or RGB). In medical, scientific, and industrial applications, it is\n",
        "not unusual to find higher numerical precision, such as 12-bit or 16-bit. This allows a\n",
        "wider range or increased sensitivity in cases where the pixel encodes information\n",
        "about a physical property, like bone density, temperature, or depth."
      ],
      "metadata": {
        "id": "WmWIK_Ujpf3O"
      }
    },
    {
      "cell_type": "markdown",
      "source": [
        "<h2>Loading an image file</h2>"
      ],
      "metadata": {
        "id": "CyYj1NdTrnJJ"
      }
    },
    {
      "cell_type": "code",
      "execution_count": null,
      "metadata": {
        "id": "W5oVp7Q4jXhQ"
      },
      "outputs": [],
      "source": [
        "import imageio"
      ]
    },
    {
      "cell_type": "code",
      "source": [
        "import torch"
      ],
      "metadata": {
        "id": "GbF-JK1_zFIm"
      },
      "execution_count": null,
      "outputs": []
    },
    {
      "cell_type": "code",
      "source": [
        "img_arr=imageio.imread(\"Dog.jpg\")\n",
        "img_arr.shape"
      ],
      "metadata": {
        "colab": {
          "base_uri": "https://localhost:8080/"
        },
        "id": "c3ECoA3Gu8_n",
        "outputId": "986c276c-40e6-4ca3-9676-31a45a1bd2b6"
      },
      "execution_count": null,
      "outputs": [
        {
          "output_type": "execute_result",
          "data": {
            "text/plain": [
              "(408, 612, 3)"
            ]
          },
          "metadata": {},
          "execution_count": 2
        }
      ]
    },
    {
      "cell_type": "markdown",
      "source": [
        "At this point, img is a NumPy array-like object with three dimensions: two spatial\n",
        "dimensions, width and height; and a third dimension corresponding to the red,\n",
        "green, and blue channels. </br>\n",
        "The layout of the dimensions: Channels, height and width(C,H,W)</br>\n"
      ],
      "metadata": {
        "id": "HE10RUqAvXqw"
      }
    },
    {
      "cell_type": "code",
      "source": [
        "img=torch.from_numpy(img_arr)"
      ],
      "metadata": {
        "id": "vw8Z062Av2CP"
      },
      "execution_count": null,
      "outputs": []
    },
    {
      "cell_type": "code",
      "source": [
        "out=img.permute(2,0,1)"
      ],
      "metadata": {
        "id": "aBL5c1cGzgS1"
      },
      "execution_count": null,
      "outputs": []
    },
    {
      "cell_type": "markdown",
      "source": [
        "As a slightly more efficient alternative to using stack to build up the tensor, we can preallocate a tensor of appropriate size and fill it with images loaded from a directory"
      ],
      "metadata": {
        "id": "0LVXpgQD0rGc"
      }
    },
    {
      "cell_type": "code",
      "source": [
        "batch_size=3\n",
        "batch=torch.zeros(batch_size,3,256,256,dtype=torch.uint8)"
      ],
      "metadata": {
        "id": "8IGOlKgE0tk0"
      },
      "execution_count": null,
      "outputs": []
    }
  ]
}