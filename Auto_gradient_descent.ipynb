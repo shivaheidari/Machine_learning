{
  "nbformat": 4,
  "nbformat_minor": 0,
  "metadata": {
    "colab": {
      "provenance": []
    },
    "kernelspec": {
      "name": "python3",
      "display_name": "Python 3"
    },
    "language_info": {
      "name": "python"
    }
  },
  "cells": [
    {
      "cell_type": "code",
      "execution_count": 30,
      "metadata": {
        "id": "qZX7cbe5hjA0"
      },
      "outputs": [],
      "source": [
        "import torch"
      ]
    },
    {
      "cell_type": "code",
      "source": [
        "import numpy as np"
      ],
      "metadata": {
        "id": "AvUqrUZuhw_J"
      },
      "execution_count": 31,
      "outputs": []
    },
    {
      "cell_type": "code",
      "source": [
        "x=torch.tensor([1,2,3,4],dtype=torch.float32)\n",
        "y=torch.tensor([2,4,6,8],dtype=torch.float32)"
      ],
      "metadata": {
        "id": "0hhuBX8mh-Ps"
      },
      "execution_count": 32,
      "outputs": []
    },
    {
      "cell_type": "code",
      "source": [
        "w=torch.tensor(0.0,dtype=torch.float32, requires_grad=True)"
      ],
      "metadata": {
        "id": "PiJEm5FHiX8M"
      },
      "execution_count": 33,
      "outputs": []
    },
    {
      "cell_type": "code",
      "source": [
        "#forward path\n",
        "def forward(x):\n",
        "  return x*w\n",
        "\n",
        "def loss(y,y_predicted):\n",
        "  return ((y_predicted-y)**2).mean()\n",
        "\n",
        "\n",
        "print(f'before training prediction: f(5)= {forward(5):.3f}')\n",
        "#training \n",
        "learning_rate=0.01\n",
        "n_itr=20\n",
        "for epoch in range(n_itr):\n",
        "  y_pred=forward(x)\n",
        "  l=loss(y,y_pred)\n",
        "  l.backward()\n",
        "  #update\n",
        "  with torch.no_grad():\n",
        "    w-=learning_rate*w.grad\n",
        "  \n",
        "  \n",
        "  \n",
        "  w.grad.zero_()\n",
        "  if epoch %2 ==0:\n",
        "    print(f\"epoch {epoch+1}:w={w:.3f}, loss={l:8f}\")\n",
        "    print(f\"prediction after training: f(5)={forward(5):.3f} \")\n",
        "\n",
        "\n"
      ],
      "metadata": {
        "colab": {
          "base_uri": "https://localhost:8080/"
        },
        "id": "ln6KPyBJidbu",
        "outputId": "20d4111d-c4a3-4fa7-ddb1-8543910d19f8"
      },
      "execution_count": 34,
      "outputs": [
        {
          "output_type": "stream",
          "name": "stdout",
          "text": [
            "before training prediction: f(5)= 0.000\n",
            "epoch 1:w=0.300, loss=30.000000\n",
            "prediction after training: f(5)=1.500 \n",
            "epoch 3:w=0.772, loss=15.660188\n",
            "prediction after training: f(5)=3.859 \n",
            "epoch 5:w=1.113, loss=8.174717\n",
            "prediction after training: f(5)=5.563 \n",
            "epoch 7:w=1.359, loss=4.267253\n",
            "prediction after training: f(5)=6.794 \n",
            "epoch 9:w=1.537, loss=2.227532\n",
            "prediction after training: f(5)=7.684 \n",
            "epoch 11:w=1.665, loss=1.162786\n",
            "prediction after training: f(5)=8.327 \n",
            "epoch 13:w=1.758, loss=0.606981\n",
            "prediction after training: f(5)=8.791 \n",
            "epoch 15:w=1.825, loss=0.316848\n",
            "prediction after training: f(5)=9.126 \n",
            "epoch 17:w=1.874, loss=0.165397\n",
            "prediction after training: f(5)=9.369 \n",
            "epoch 19:w=1.909, loss=0.086338\n",
            "prediction after training: f(5)=9.544 \n"
          ]
        }
      ]
    }
  ]
}