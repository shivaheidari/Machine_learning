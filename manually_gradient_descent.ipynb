{
  "nbformat": 4,
  "nbformat_minor": 0,
  "metadata": {
    "colab": {
      "provenance": []
    },
    "kernelspec": {
      "name": "python3",
      "display_name": "Python 3"
    },
    "language_info": {
      "name": "python"
    }
  },
  "cells": [
    {
      "cell_type": "code",
      "execution_count": null,
      "metadata": {
        "id": "qZX7cbe5hjA0"
      },
      "outputs": [],
      "source": [
        "import torch"
      ]
    },
    {
      "cell_type": "code",
      "source": [
        "import numpy as np"
      ],
      "metadata": {
        "id": "AvUqrUZuhw_J"
      },
      "execution_count": null,
      "outputs": []
    },
    {
      "cell_type": "code",
      "source": [
        "x=np.array([1,2,3,4],dtype=float)\n",
        "y=np.array([2,4,6,8],dtype=float)"
      ],
      "metadata": {
        "id": "0hhuBX8mh-Ps"
      },
      "execution_count": null,
      "outputs": []
    },
    {
      "cell_type": "code",
      "source": [
        "w=0.0"
      ],
      "metadata": {
        "id": "PiJEm5FHiX8M"
      },
      "execution_count": null,
      "outputs": []
    },
    {
      "cell_type": "code",
      "source": [
        "#forward path\n",
        "def forward(x):\n",
        "  return x*w\n",
        "\n",
        "def loss(y,y_predicted):\n",
        "  return ((y_predicted-y)**2).mean()\n",
        "\n",
        "#MSE=1/n(y-wx)**2\n",
        "#dloss/dw = 1/n 2*x(y-wx)\n",
        "def gradient(x,y,ypred):\n",
        "  return np.dot(2*x,ypred-y).mean()\n",
        "\n",
        "print(f'before training prediction: f(5)= {forward(5):.3f}')\n",
        "#training \n",
        "learning_rate=0.01\n",
        "n_itr=20\n",
        "for epoch in range(n_itr):\n",
        "  y_pred=forward(x)\n",
        "  l=loss(y,y_pred)\n",
        "  dw=gradient(x,y,y_pred)\n",
        "  #update\n",
        "  w-=learning_rate*dw\n",
        "  if epoch %2 ==0:\n",
        "    print(f\"epoch {epoch+1}:w={w:.3f}, loss={l:8f}\")\n",
        "    print(f\"prediction after training: f(5)={forward(5):.3f} \")\n",
        "\n",
        "\n"
      ],
      "metadata": {
        "colab": {
          "base_uri": "https://localhost:8080/"
        },
        "id": "ln6KPyBJidbu",
        "outputId": "90e141cb-d2de-495a-c92f-3cd9396de65e"
      },
      "execution_count": null,
      "outputs": [
        {
          "output_type": "stream",
          "name": "stdout",
          "text": [
            "before training prediction: f(5)= 0.000\n",
            "epoch 1:w=1.200, loss=30.000000\n",
            "prediction after training: f(5)=6.000 \n",
            "epoch 3:w=1.872, loss=0.768000\n",
            "prediction after training: f(5)=9.360 \n",
            "epoch 5:w=1.980, loss=0.019661\n",
            "prediction after training: f(5)=9.898 \n",
            "epoch 7:w=1.997, loss=0.000503\n",
            "prediction after training: f(5)=9.984 \n",
            "epoch 9:w=1.999, loss=0.000013\n",
            "prediction after training: f(5)=9.997 \n",
            "epoch 11:w=2.000, loss=0.000000\n",
            "prediction after training: f(5)=10.000 \n",
            "epoch 13:w=2.000, loss=0.000000\n",
            "prediction after training: f(5)=10.000 \n",
            "epoch 15:w=2.000, loss=0.000000\n",
            "prediction after training: f(5)=10.000 \n",
            "epoch 17:w=2.000, loss=0.000000\n",
            "prediction after training: f(5)=10.000 \n",
            "epoch 19:w=2.000, loss=0.000000\n",
            "prediction after training: f(5)=10.000 \n"
          ]
        }
      ]
    }
  ]
}