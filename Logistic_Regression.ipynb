{
  "nbformat": 4,
  "nbformat_minor": 0,
  "metadata": {
    "colab": {
      "provenance": []
    },
    "kernelspec": {
      "name": "python3",
      "display_name": "Python 3"
    },
    "language_info": {
      "name": "python"
    }
  },
  "cells": [
    {
      "cell_type": "code",
      "execution_count": 2,
      "metadata": {
        "id": "-lbt6geQnOM_"
      },
      "outputs": [],
      "source": [
        "import torch\n",
        "import torch.nn as nn\n",
        "import numpy as np\n",
        "from sklearn import datasets\n",
        "from sklearn.preprocessing import StandardScaler\n",
        "from sklearn.model_selection import train_test_split"
      ]
    },
    {
      "cell_type": "code",
      "source": [
        "#preparing data\n",
        "bc=datasets.load_breast_cancer()\n",
        "x,y=bc.data, bc.target\n",
        "n_samples, n_features= x.shape\n",
        "x_train, x_test, y_train, y_test=train_test_split(x,y,test_size=0.2, random_state=1234)\n",
        "sc=StandardScaler()\n",
        "x_train=sc.fit_transform(x_train)\n",
        "x_test=sc.fit_transform(x_test)\n",
        "x_train=torch.from_numpy(x_train.astype(np.float32))\n",
        "x_test=torch.from_numpy(x_test.astype(np.float32))\n",
        "y_train=torch.from_numpy(y_train.astype(np.float32))\n",
        "y_test=torch.from_numpy(y_test.astype(np.float32))\n",
        "y_train=y_train.view(y_train.shape[0],1)\n",
        "y_test=y_test.view(y_test.shape[0],1)"
      ],
      "metadata": {
        "id": "9I9PyAJzn07L"
      },
      "execution_count": 6,
      "outputs": []
    },
    {
      "cell_type": "code",
      "source": [
        "#forward // Model \n",
        "#f=wx+b , sigmoid at the end\n",
        "class logistic_regression(nn.Module):\n",
        "  def __init__(self, n_input_features):\n",
        "    super(logistic_regression,self).__init__()\n",
        "    self.linear=nn.Linear(n_input_features, 1)\n",
        "  def forward(self, x):\n",
        "    y_predicted=torch.sigmoid(self.linear(x))\n",
        "    return y_predicted\n",
        "model=logistic_regression(n_features)"
      ],
      "metadata": {
        "id": "riW2akEan3Oc"
      },
      "execution_count": 8,
      "outputs": []
    },
    {
      "cell_type": "code",
      "source": [
        "#loss and optimizer\n",
        "\n",
        "learning_rate=0.01\n",
        "criterion=nn.BCELoss()\n",
        "optimizer=torch.optim.SGD(model.parameters(),lr=learning_rate)\n"
      ],
      "metadata": {
        "id": "Na1B5_nxn46T"
      },
      "execution_count": 9,
      "outputs": []
    },
    {
      "cell_type": "code",
      "source": [
        "from pandas.core.window.rolling import numba_notes\n",
        "#training\n",
        "num_epochs=100\n",
        "for epoch in range(num_epochs):\n",
        "  #forward\n",
        "  y_predicted=model(x_train)\n",
        "  loss=criterion(y_predicted,y_train)\n",
        "\n",
        "  #backward\n",
        "  loss.backward()\n",
        "  #update\n",
        "  optimizer.step()\n",
        "  #zero gradients\n",
        "  optimizer.zero_grad()\n",
        "  if (epoch+1)%10 == 0:\n",
        "      print(f\"epoch: {epoch+1}, loss={loss.item():.3}\")\n",
        "\n",
        "with torch.no_grad():\n",
        "  y_predicted=model(x_test)\n",
        "  y_predicted_cls=y_predicted.round()\n",
        "  acc=y_predicted_cls.eq(y_test).sum()/float(y_test.shape[0])\n",
        "  print(f\"accuracy={acc:.3}\")\n"
      ],
      "metadata": {
        "colab": {
          "base_uri": "https://localhost:8080/"
        },
        "id": "TSMnfVD1n6R4",
        "outputId": "5e46d0bf-2425-489f-c67c-56d1400e2cdd"
      },
      "execution_count": 11,
      "outputs": [
        {
          "output_type": "stream",
          "name": "stdout",
          "text": [
            "epoch: 10, loss=0.473\n",
            "epoch: 20, loss=0.412\n",
            "epoch: 30, loss=0.368\n",
            "epoch: 40, loss=0.336\n",
            "epoch: 50, loss=0.311\n",
            "epoch: 60, loss=0.29\n",
            "epoch: 70, loss=0.273\n",
            "epoch: 80, loss=0.259\n",
            "epoch: 90, loss=0.247\n",
            "epoch: 100, loss=0.236\n",
            "accuracy=0.912\n"
          ]
        }
      ]
    }
  ]
}