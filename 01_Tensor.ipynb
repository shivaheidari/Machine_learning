{
  "nbformat": 4,
  "nbformat_minor": 0,
  "metadata": {
    "colab": {
      "provenance": []
    },
    "kernelspec": {
      "name": "python3",
      "display_name": "Python 3"
    },
    "language_info": {
      "name": "python"
    }
  },
  "cells": [
    {
      "cell_type": "markdown",
      "source": [
        "<h1>Tensor's concept</h1>\n",
        "Deeplearning as a transformer from one representation to another.</br>\n",
        "Tensor is a data structure for Pytorch. Tensors are the generalizaion of vectors and matrices to an arbitary numbers of dimensions.</br>\n",
        "Compared to the Numpy arrays, Pytorch have a few superpowers such as ability to perform very fast operations on graphical processing untis, distribute operations on multople devices or machines."
      ],
      "metadata": {
        "id": "cWnBi4sf1qBa"
      }
    },
    {
      "cell_type": "code",
      "execution_count": 1,
      "metadata": {
        "id": "O-QcEJaSzYW7"
      },
      "outputs": [],
      "source": [
        "import torch"
      ]
    },
    {
      "cell_type": "code",
      "source": [
        "#creates a one-dimensional tesnor of size 3 filled with 1s\n",
        "a=torch.ones(3)\n",
        "a"
      ],
      "metadata": {
        "colab": {
          "base_uri": "https://localhost:8080/"
        },
        "id": "dCcrFjOksLyT",
        "outputId": "8df56d1d-d92b-43ac-fa71-7e7f68d05944"
      },
      "execution_count": 2,
      "outputs": [
        {
          "output_type": "execute_result",
          "data": {
            "text/plain": [
              "tensor([1., 1., 1.])"
            ]
          },
          "metadata": {},
          "execution_count": 2
        }
      ]
    },
    {
      "cell_type": "code",
      "source": [
        "a[1]"
      ],
      "metadata": {
        "colab": {
          "base_uri": "https://localhost:8080/"
        },
        "id": "RRkHVvh8sXWI",
        "outputId": "b098b95c-daeb-4afb-e8a0-b94eae3b4e64"
      },
      "execution_count": 3,
      "outputs": [
        {
          "output_type": "execute_result",
          "data": {
            "text/plain": [
              "tensor(1.)"
            ]
          },
          "metadata": {},
          "execution_count": 3
        }
      ]
    },
    {
      "cell_type": "code",
      "source": [
        "float(a[1])\n",
        "a[2]=2\n",
        "a"
      ],
      "metadata": {
        "colab": {
          "base_uri": "https://localhost:8080/"
        },
        "id": "_AFQmxqSscME",
        "outputId": "c8fffc8e-d5c2-4e90-b950-30845afa1ed4"
      },
      "execution_count": 4,
      "outputs": [
        {
          "output_type": "execute_result",
          "data": {
            "text/plain": [
              "tensor([1., 1., 2.])"
            ]
          },
          "metadata": {},
          "execution_count": 4
        }
      ]
    },
    {
      "cell_type": "markdown",
      "source": [
        "Lists and tuples in python are collections of objects. It means that each element might be allocated in diffrenent part of memory.In contrast, Tensor and Arrays's elements are sotred in a continues memeory."
      ],
      "metadata": {
        "id": "KYVd9IOOudT1"
      }
    },
    {
      "cell_type": "code",
      "source": [
        "points=torch.tensor([[4,1],[5,3]])\n"
      ],
      "metadata": {
        "id": "0zSv9NHWsr3U"
      },
      "execution_count": 5,
      "outputs": []
    },
    {
      "cell_type": "code",
      "source": [
        "points.shape"
      ],
      "metadata": {
        "colab": {
          "base_uri": "https://localhost:8080/"
        },
        "id": "lHzpkwOg3EkU",
        "outputId": "44905d16-fe54-4dd1-e6d1-58e0ab3569f1"
      },
      "execution_count": 6,
      "outputs": [
        {
          "output_type": "execute_result",
          "data": {
            "text/plain": [
              "torch.Size([2, 2])"
            ]
          },
          "metadata": {},
          "execution_count": 6
        }
      ]
    },
    {
      "cell_type": "code",
      "source": [
        "points[0,1]"
      ],
      "metadata": {
        "colab": {
          "base_uri": "https://localhost:8080/"
        },
        "id": "nBYzR89G3ITY",
        "outputId": "4fd1e19b-719a-4408-9b6d-6675f12c00eb"
      },
      "execution_count": 7,
      "outputs": [
        {
          "output_type": "execute_result",
          "data": {
            "text/plain": [
              "tensor(1)"
            ]
          },
          "metadata": {},
          "execution_count": 7
        }
      ]
    },
    {
      "cell_type": "code",
      "source": [
        "points[1:]"
      ],
      "metadata": {
        "colab": {
          "base_uri": "https://localhost:8080/"
        },
        "id": "c5w5TT833WDj",
        "outputId": "aac9c8aa-85f8-44fd-ae7b-b9023a7d9d2f"
      },
      "execution_count": 8,
      "outputs": [
        {
          "output_type": "execute_result",
          "data": {
            "text/plain": [
              "tensor([[5, 3]])"
            ]
          },
          "metadata": {},
          "execution_count": 8
        }
      ]
    },
    {
      "cell_type": "markdown",
      "source": [
        "<h3>Named Tensors</h3>\n",
        "ie: Converting colored image to gray scale. RGB channnels are located in index of [-3]"
      ],
      "metadata": {
        "id": "G6uP0NYQ7CvV"
      }
    },
    {
      "cell_type": "code",
      "source": [
        "img_t=torch.randn(3,5,5)#shape[channels, rows, columns]\n",
        "weights=torch.tensor([0.2126, 0.7152,0.0722])"
      ],
      "metadata": {
        "id": "nFhZB4SR4owD"
      },
      "execution_count": 9,
      "outputs": []
    },
    {
      "cell_type": "code",
      "source": [
        "batch_t=torch.randn(2,3,5,5)#shape[batch, chanels, rows, columns]"
      ],
      "metadata": {
        "id": "4BifQ4Df7eFN"
      },
      "execution_count": 10,
      "outputs": []
    },
    {
      "cell_type": "code",
      "source": [
        "img_gray_naive=img_t.mean(-3)\n",
        "batch_img_gray_naive=batch_t.mean(-3)\n",
        "img_gray_naive\n",
        "batch_img_gray_naive"
      ],
      "metadata": {
        "colab": {
          "base_uri": "https://localhost:8080/"
        },
        "id": "jlVroVd-84rj",
        "outputId": "93218538-3958-4ab3-d237-1e9ba7a27366"
      },
      "execution_count": 11,
      "outputs": [
        {
          "output_type": "execute_result",
          "data": {
            "text/plain": [
              "tensor([[[-0.8820, -0.3340, -0.7684, -0.8244,  1.2831],\n",
              "         [ 0.4358,  0.4202,  0.0994, -0.8525, -0.1285],\n",
              "         [ 0.5275,  0.0889, -0.7255, -0.6058,  0.9675],\n",
              "         [-0.4372, -0.4115,  0.5277, -0.2068,  0.0497],\n",
              "         [ 0.8654,  0.0507, -0.2174,  0.7621,  0.2029]],\n",
              "\n",
              "        [[-0.6808,  0.1190,  0.5606,  0.1605, -0.1137],\n",
              "         [ 0.4778, -0.2832,  0.3680,  0.4493,  0.7533],\n",
              "         [ 0.0274, -0.6274, -0.1229,  0.0811,  0.3111],\n",
              "         [-0.6723, -0.0981,  0.0412, -0.1075, -1.2122],\n",
              "         [ 0.0193, -0.2733, -0.0167, -0.0056,  0.6418]]])"
            ]
          },
          "metadata": {},
          "execution_count": 11
        }
      ]
    },
    {
      "cell_type": "markdown",
      "source": [
        "As pytorch use broadcasting for operations, it is highly recommended to use named indexes for tracking."
      ],
      "metadata": {
        "id": "UhCK5eCm9378"
      }
    },
    {
      "cell_type": "code",
      "source": [
        "NCHW=[\"N\", \"C\", \"H\", \"W\"]\n",
        "images=torch.randn(3,2,5,5 , names=NCHW)\n",
        "res=images.sum(\"C\")\n",
        "res"
      ],
      "metadata": {
        "colab": {
          "base_uri": "https://localhost:8080/"
        },
        "id": "rAM7ne4r9ziX",
        "outputId": "92c6a2e6-c050-4f26-c4a2-309881d3a1da"
      },
      "execution_count": 12,
      "outputs": [
        {
          "output_type": "stream",
          "name": "stderr",
          "text": [
            "/usr/local/lib/python3.7/dist-packages/ipykernel_launcher.py:2: UserWarning: Named tensors and all their associated APIs are an experimental feature and subject to change. Please do not use them for anything important until they are released as stable. (Triggered internally at  ../c10/core/TensorImpl.h:1405.)\n",
            "  \n"
          ]
        },
        {
          "output_type": "execute_result",
          "data": {
            "text/plain": [
              "tensor([[[ 0.4079,  3.5985,  2.6656, -1.0257,  0.5434],\n",
              "         [ 0.6802,  1.7646, -0.1186,  1.4266,  2.4617],\n",
              "         [-0.0676, -0.9193,  0.2480, -0.2782,  1.4314],\n",
              "         [-0.5757, -2.0011, -0.9925, -0.2824, -1.8877],\n",
              "         [-0.3167,  3.4460, -0.1628, -0.5717,  1.4537]],\n",
              "\n",
              "        [[-1.2671, -0.9157,  0.2197,  0.6138, -1.2123],\n",
              "         [ 0.1525, -0.4255, -1.1966, -0.1760, -0.7134],\n",
              "         [ 0.7305, -0.0177, -1.3648,  0.3138,  0.2191],\n",
              "         [-0.8728, -1.5651,  1.3329, -0.6547, -0.8900],\n",
              "         [-1.8162, -1.5754,  0.6431, -0.3946, -0.1294]],\n",
              "\n",
              "        [[-1.1894, -2.7544, -0.0250, -0.7221,  1.4616],\n",
              "         [-2.1540,  0.5075, -2.1562,  1.8313, -1.0536],\n",
              "         [ 0.6116, -1.0312,  0.1439,  1.1974,  1.2769],\n",
              "         [-0.2087,  1.0534,  0.0226, -0.1140, -0.6254],\n",
              "         [ 2.4064,  1.5018,  1.2040,  0.3349, -1.1291]]],\n",
              "       names=('N', 'H', 'W'))"
            ]
          },
          "metadata": {},
          "execution_count": 12
        }
      ]
    },
    {
      "cell_type": "code",
      "source": [
        " "
      ],
      "metadata": {
        "id": "HfAj6_P0TBOS"
      },
      "execution_count": 12,
      "outputs": []
    }
  ]
}