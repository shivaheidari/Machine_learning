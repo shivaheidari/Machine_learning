{
  "nbformat": 4,
  "nbformat_minor": 0,
  "metadata": {
    "colab": {
      "provenance": []
    },
    "kernelspec": {
      "name": "python3",
      "display_name": "Python 3"
    },
    "language_info": {
      "name": "python"
    }
  },
  "cells": [
    {
      "cell_type": "markdown",
      "source": [
        "<h1>Tensor's concept</h1>\n",
        "Deeplearning as a transformer from one representation to another.</br>\n",
        "Tensor is a data structure for Pytorch. Tensors are the generalizaion of vectors and matrices to an arbitary numbers of dimensions.</br>\n",
        "Compared to the Numpy arrays, Pytorch have a few superpowers such as ability to perform very fast operations on graphical processing untis, distribute operations on multople devices or machines."
      ],
      "metadata": {
        "id": "cWnBi4sf1qBa"
      }
    },
    {
      "cell_type": "code",
      "execution_count": null,
      "metadata": {
        "id": "O-QcEJaSzYW7"
      },
      "outputs": [],
      "source": [
        "import torch"
      ]
    },
    {
      "cell_type": "code",
      "source": [
        "#creates a one-dimensional tesnor of size 3 filled with 1s\n",
        "a=torch.ones(3)\n",
        "a"
      ],
      "metadata": {
        "colab": {
          "base_uri": "https://localhost:8080/"
        },
        "id": "dCcrFjOksLyT",
        "outputId": "c3242bc4-1877-40ba-8157-8389e9a26d98"
      },
      "execution_count": null,
      "outputs": [
        {
          "output_type": "execute_result",
          "data": {
            "text/plain": [
              "tensor([1., 1., 1.])"
            ]
          },
          "metadata": {},
          "execution_count": 2
        }
      ]
    },
    {
      "cell_type": "code",
      "source": [
        "a[1]"
      ],
      "metadata": {
        "colab": {
          "base_uri": "https://localhost:8080/"
        },
        "id": "RRkHVvh8sXWI",
        "outputId": "eebca475-cc4e-4ce5-fbf4-736f459f4d0b"
      },
      "execution_count": null,
      "outputs": [
        {
          "output_type": "execute_result",
          "data": {
            "text/plain": [
              "tensor(1.)"
            ]
          },
          "metadata": {},
          "execution_count": 3
        }
      ]
    },
    {
      "cell_type": "code",
      "source": [
        "float(a[1])\n",
        "a[2]=2\n",
        "a"
      ],
      "metadata": {
        "colab": {
          "base_uri": "https://localhost:8080/"
        },
        "id": "_AFQmxqSscME",
        "outputId": "6acb36cd-83f5-4495-b95d-749b43380cfe"
      },
      "execution_count": null,
      "outputs": [
        {
          "output_type": "execute_result",
          "data": {
            "text/plain": [
              "tensor([1., 1., 2.])"
            ]
          },
          "metadata": {},
          "execution_count": 4
        }
      ]
    },
    {
      "cell_type": "markdown",
      "source": [
        "Lists and tuples in python are collections of objects. It means that each element might be allocated in diffrenent part of memory.In contrast, Tensor and Arrays's elements are sotred in a continues memeory."
      ],
      "metadata": {
        "id": "KYVd9IOOudT1"
      }
    },
    {
      "cell_type": "code",
      "source": [
        "points=torch.tensor([[4,1],[5,3]])\n"
      ],
      "metadata": {
        "id": "0zSv9NHWsr3U"
      },
      "execution_count": null,
      "outputs": []
    },
    {
      "cell_type": "code",
      "source": [
        "points.shape"
      ],
      "metadata": {
        "colab": {
          "base_uri": "https://localhost:8080/"
        },
        "id": "lHzpkwOg3EkU",
        "outputId": "96bd768c-7d2d-401c-cf20-d3d06d06966e"
      },
      "execution_count": null,
      "outputs": [
        {
          "output_type": "execute_result",
          "data": {
            "text/plain": [
              "torch.Size([2, 2])"
            ]
          },
          "metadata": {},
          "execution_count": 6
        }
      ]
    },
    {
      "cell_type": "code",
      "source": [
        "points[0,1]"
      ],
      "metadata": {
        "colab": {
          "base_uri": "https://localhost:8080/"
        },
        "id": "nBYzR89G3ITY",
        "outputId": "9a0328af-3ae8-456f-bcf8-4478124dfb1f"
      },
      "execution_count": null,
      "outputs": [
        {
          "output_type": "execute_result",
          "data": {
            "text/plain": [
              "tensor(1)"
            ]
          },
          "metadata": {},
          "execution_count": 7
        }
      ]
    },
    {
      "cell_type": "code",
      "source": [
        "points[1:]"
      ],
      "metadata": {
        "colab": {
          "base_uri": "https://localhost:8080/"
        },
        "id": "c5w5TT833WDj",
        "outputId": "2011e1ce-065b-46d1-ef64-3fc2c2d2f547"
      },
      "execution_count": null,
      "outputs": [
        {
          "output_type": "execute_result",
          "data": {
            "text/plain": [
              "tensor([[5, 3]])"
            ]
          },
          "metadata": {},
          "execution_count": 8
        }
      ]
    },
    {
      "cell_type": "markdown",
      "source": [
        "<h3>Named Tensors</h3>\n",
        "ie: Converting colored image to gray scale. RGB channnels are located in index of [-3]"
      ],
      "metadata": {
        "id": "G6uP0NYQ7CvV"
      }
    },
    {
      "cell_type": "code",
      "source": [
        "img_t=torch.randn(3,5,5)#shape[channels, rows, columns]\n",
        "weights=torch.tensor([0.2126, 0.7152,0.0722])"
      ],
      "metadata": {
        "id": "nFhZB4SR4owD"
      },
      "execution_count": null,
      "outputs": []
    },
    {
      "cell_type": "code",
      "source": [
        "batch_t=torch.randn(2,3,5,5)#shape[batch, chanels, rows, columns]"
      ],
      "metadata": {
        "id": "4BifQ4Df7eFN"
      },
      "execution_count": null,
      "outputs": []
    },
    {
      "cell_type": "code",
      "source": [
        "img_gray_naive=img_t.mean(-3)\n",
        "batch_img_gray_naive=batch_t.mean(-3)\n",
        "img_gray_naive\n",
        "batch_img_gray_naive"
      ],
      "metadata": {
        "colab": {
          "base_uri": "https://localhost:8080/"
        },
        "id": "jlVroVd-84rj",
        "outputId": "14eee657-d551-414d-9732-64f3bd85e747"
      },
      "execution_count": null,
      "outputs": [
        {
          "output_type": "execute_result",
          "data": {
            "text/plain": [
              "tensor([[[ 0.4613, -0.4989, -0.5985, -0.6015, -0.0738],\n",
              "         [-0.2942, -0.3644, -0.5857, -0.5675,  0.3157],\n",
              "         [-0.1327,  0.1982,  0.2248, -0.1933, -0.7382],\n",
              "         [-0.4363, -0.3913,  0.3023, -0.0274,  0.3955],\n",
              "         [-0.5961, -0.7886,  0.5310, -0.4040, -0.6651]],\n",
              "\n",
              "        [[-0.3732,  0.8237, -0.6954, -0.7709, -0.4684],\n",
              "         [-0.0073,  0.2580, -0.2691, -0.2174,  1.4491],\n",
              "         [-0.0816, -0.6257, -0.1167, -0.1178, -0.8542],\n",
              "         [-0.3058,  0.2739, -0.1445,  0.0645, -0.0119],\n",
              "         [-0.0575, -0.7670, -0.3855,  0.5581,  0.3032]]])"
            ]
          },
          "metadata": {},
          "execution_count": 11
        }
      ]
    },
    {
      "cell_type": "markdown",
      "source": [
        "As pytorch use broadcasting for operations, it is highly recommended to use named indexes for tracking."
      ],
      "metadata": {
        "id": "UhCK5eCm9378"
      }
    },
    {
      "cell_type": "code",
      "source": [
        "NCHW=[\"N\", \"C\", \"H\", \"W\"]\n",
        "images=torch.randn(3,2,5,5 , names=NCHW)\n",
        "res=images.sum(\"C\")\n",
        "res"
      ],
      "metadata": {
        "colab": {
          "base_uri": "https://localhost:8080/"
        },
        "id": "rAM7ne4r9ziX",
        "outputId": "7e4a6aba-0f3f-4698-c116-b3f4a725a47d"
      },
      "execution_count": null,
      "outputs": [
        {
          "output_type": "stream",
          "name": "stderr",
          "text": [
            "/usr/local/lib/python3.7/dist-packages/ipykernel_launcher.py:2: UserWarning: Named tensors and all their associated APIs are an experimental feature and subject to change. Please do not use them for anything important until they are released as stable. (Triggered internally at  ../c10/core/TensorImpl.h:1405.)\n",
            "  \n"
          ]
        },
        {
          "output_type": "execute_result",
          "data": {
            "text/plain": [
              "tensor([[[-1.9697,  3.2077,  0.3331, -0.6247, -0.3684],\n",
              "         [ 1.4819, -0.5785,  1.8771, -1.4714, -0.0379],\n",
              "         [ 2.0219, -2.3069, -2.2372, -0.8791,  1.7329],\n",
              "         [-2.1238, -0.9465, -1.0958, -3.0856,  0.1551],\n",
              "         [ 0.9766, -0.8046,  0.9238, -1.4119, -0.5846]],\n",
              "\n",
              "        [[ 1.1062, -2.4316,  0.4522, -0.2535,  0.1410],\n",
              "         [-0.1200, -0.7006, -0.7601,  0.2797, -0.2607],\n",
              "         [ 0.7987,  1.4170, -1.7013, -0.3347, -2.2075],\n",
              "         [-0.4817,  0.9693,  2.2172,  0.7049,  1.5643],\n",
              "         [ 0.2818,  0.0507,  0.1372,  0.7347, -0.2058]],\n",
              "\n",
              "        [[-0.3223,  0.8556,  0.0839, -1.3188,  0.5452],\n",
              "         [ 2.0106,  2.7477,  1.6955,  1.4021, -1.2200],\n",
              "         [-0.3094, -0.0498, -0.8305, -0.1225,  0.2623],\n",
              "         [ 1.5047,  1.2248,  1.7157, -2.0107,  0.0984],\n",
              "         [-0.2786, -0.0982,  2.2777, -0.0180,  2.3659]]],\n",
              "       names=('N', 'H', 'W'))"
            ]
          },
          "metadata": {},
          "execution_count": 12
        }
      ]
    },
    {
      "cell_type": "markdown",
      "source": [
        "<h3>Tensor element types</h3>\n",
        "Numbers in python are objects. It makes prblem when we are dealing with allocating millions of numbers. It is not efficient.</br>\n",
        "The python interpreter is slow compared to the optimized compled coed.</br>\n",
        "For these reasons, data science libraries rely on NumPy or introduce dedicated data\n",
        "structures like PyTorch tensors, which provide efficient low-level implementations of\n",
        "numerical data structures and related operations on them, wrapped in a convenient\n",
        "high-level API\n"
      ],
      "metadata": {
        "id": "BbrG3tFilZDp"
      }
    },
    {
      "cell_type": "code",
      "source": [
        "double_points=torch.ones(10,2,dtype=torch.double)\n",
        "short_points=torch.tensor([[1,2],[3,4]],dtype=torch.short)"
      ],
      "metadata": {
        "id": "-MkXu8dQlYDS"
      },
      "execution_count": null,
      "outputs": []
    },
    {
      "cell_type": "code",
      "source": [
        " short_points.dtype"
      ],
      "metadata": {
        "id": "HfAj6_P0TBOS",
        "colab": {
          "base_uri": "https://localhost:8080/"
        },
        "outputId": "a0898473-c2e2-4f2c-8a4d-ecbac8987cea"
      },
      "execution_count": null,
      "outputs": [
        {
          "output_type": "execute_result",
          "data": {
            "text/plain": [
              "torch.int16"
            ]
          },
          "metadata": {},
          "execution_count": 14
        }
      ]
    },
    {
      "cell_type": "code",
      "source": [
        "#casting the datatype\n",
        "double_points=torch.zeros(10,2).double()"
      ],
      "metadata": {
        "id": "U-ZnyUSFpFHT"
      },
      "execution_count": null,
      "outputs": []
    },
    {
      "cell_type": "markdown",
      "source": [
        "Under the hood, to checks whether the conversion is necessary and, if so, does it."
      ],
      "metadata": {
        "id": "-2ipjPZnsnte"
      }
    },
    {
      "cell_type": "code",
      "source": [
        "#the more convinient way\n",
        "double_points=torch.zeros(10,2).to(torch.double)"
      ],
      "metadata": {
        "id": "PjWw-zUcry3T"
      },
      "execution_count": null,
      "outputs": []
    },
    {
      "cell_type": "markdown",
      "source": [
        "<h3>The tensor API</h3>"
      ],
      "metadata": {
        "id": "4bqxAp_YtDLV"
      }
    },
    {
      "cell_type": "code",
      "source": [
        "a=torch.ones(3,2)\n",
        "#input 1 the tensor \n",
        "#input 2 the first dimension to the be transposed\n",
        "#input 3 the second dimension to be trapsposed\n",
        "a_t=torch.transpose(a,0,1)"
      ],
      "metadata": {
        "id": "Dy7O6_njtCkD"
      },
      "execution_count": null,
      "outputs": []
    },
    {
      "cell_type": "code",
      "source": [
        "#another way\n",
        "a.transpose(0,1)"
      ],
      "metadata": {
        "colab": {
          "base_uri": "https://localhost:8080/"
        },
        "id": "nf4HftfvsqRc",
        "outputId": "7b4ad19a-8d5e-4669-844b-0679c1c60c51"
      },
      "execution_count": null,
      "outputs": [
        {
          "output_type": "execute_result",
          "data": {
            "text/plain": [
              "tensor([[1., 1., 1.],\n",
              "        [1., 1., 1.]])"
            ]
          },
          "metadata": {},
          "execution_count": 18
        }
      ]
    },
    {
      "cell_type": "markdown",
      "source": [
        "Transposing in higher dimension"
      ],
      "metadata": {
        "id": "CyW2ohw1FWlX"
      }
    },
    {
      "cell_type": "code",
      "source": [
        "some_t=torch.ones(3,4,5)\n",
        "transpose_t=some_t.transpose(0,2)\n",
        "some_t.shape#(3,4,5)\n",
        "transpose_t.shape#(5,4,3)\n",
        "some_t.stride()#(20,5,1)\n",
        "transpose_t.stride()#(1,5,20)"
      ],
      "metadata": {
        "colab": {
          "base_uri": "https://localhost:8080/"
        },
        "id": "e-RMV5PWFWHI",
        "outputId": "cb34d7fc-904a-4833-f6e6-6093c40133e6"
      },
      "execution_count": null,
      "outputs": [
        {
          "output_type": "execute_result",
          "data": {
            "text/plain": [
              "(1, 5, 20)"
            ]
          },
          "metadata": {},
          "execution_count": 19
        }
      ]
    },
    {
      "cell_type": "code",
      "source": [
        "points=torch.tensor([[1,2],[3,4]])\n",
        "points_t=points.t()\n",
        "#t is a function for transforming for two dimensional tensors"
      ],
      "metadata": {
        "id": "S1nhk9hYGiCF"
      },
      "execution_count": null,
      "outputs": []
    },
    {
      "cell_type": "markdown",
      "source": [
        "indexing into storage"
      ],
      "metadata": {
        "id": "9f9c0-yTxLtt"
      }
    },
    {
      "cell_type": "code",
      "source": [
        "points=torch.tensor([[4 , 1],[5,3],[2,1]])\n",
        "print(points.storage())\n",
        "points_storage=points.storage()\n",
        "points_storage[0]\n",
        "points.storage()[1]"
      ],
      "metadata": {
        "colab": {
          "base_uri": "https://localhost:8080/"
        },
        "id": "hBZUUoXqu3rd",
        "outputId": "ddf43b30-5293-42dc-db74-47a53454887c"
      },
      "execution_count": null,
      "outputs": [
        {
          "output_type": "stream",
          "name": "stdout",
          "text": [
            " 4\n",
            " 1\n",
            " 5\n",
            " 3\n",
            " 2\n",
            " 1\n",
            "[torch.storage._TypedStorage(dtype=torch.int64, device=cpu) of size 6]\n"
          ]
        },
        {
          "output_type": "execute_result",
          "data": {
            "text/plain": [
              "1"
            ]
          },
          "metadata": {},
          "execution_count": 21
        }
      ]
    },
    {
      "cell_type": "markdown",
      "source": [
        "<h3>Inplace modifying</h3>"
      ],
      "metadata": {
        "id": "SycB_cWL0GWG"
      }
    },
    {
      "cell_type": "code",
      "source": [
        "a=torch.ones(3,2)\n",
        "a.zero_()\n",
        "a"
      ],
      "metadata": {
        "colab": {
          "base_uri": "https://localhost:8080/"
        },
        "id": "ZZZelEc8xdZE",
        "outputId": "9dfce99c-b56f-4725-9e9b-c9fab56a0dfa"
      },
      "execution_count": null,
      "outputs": [
        {
          "output_type": "execute_result",
          "data": {
            "text/plain": [
              "tensor([[0., 0.],\n",
              "        [0., 0.],\n",
              "        [0., 0.]])"
            ]
          },
          "metadata": {},
          "execution_count": 22
        }
      ]
    },
    {
      "cell_type": "markdown",
      "source": [
        "<h3>Tensor metadata: Size, Offset Stride</h3>\n",
        "sizes: shape(rows and columns)</br>\n",
        "offset: the index in the storage corresponding to the first element in the tensor</br>\n",
        "stride: the numebr of elements in the storage that need to be skipped over to obtain the next element along each dimension.\n"
      ],
      "metadata": {
        "id": "gTywV3bB25lW"
      }
    },
    {
      "cell_type": "code",
      "source": [
        "points=torch.tensor([[4,1],[5,3],[2,1]])\n",
        "second_point=points[1]\n",
        "second_point#[5,3]\n",
        "second_point.storage_offset()#2\n",
        "second_point.size()"
      ],
      "metadata": {
        "colab": {
          "base_uri": "https://localhost:8080/"
        },
        "id": "72Y8VOil25Fu",
        "outputId": "7093a307-76cf-469d-faff-39408d8d43e5"
      },
      "execution_count": null,
      "outputs": [
        {
          "output_type": "execute_result",
          "data": {
            "text/plain": [
              "torch.Size([2])"
            ]
          },
          "metadata": {},
          "execution_count": 23
        }
      ]
    },
    {
      "cell_type": "markdown",
      "source": [
        "Accessing an element i, j in a 2D tensor results in accessing the storage_offset +\n",
        "stride[0] * i + stride[1] * j element in the storage."
      ],
      "metadata": {
        "id": "ksImyvhh8gRH"
      }
    },
    {
      "cell_type": "code",
      "source": [
        "second_point[0]=10\n",
        "points"
      ],
      "metadata": {
        "colab": {
          "base_uri": "https://localhost:8080/"
        },
        "id": "OhB4lM4M1Et8",
        "outputId": "9f1f6ec5-befa-4775-ab09-86fc32565f47"
      },
      "execution_count": null,
      "outputs": [
        {
          "output_type": "execute_result",
          "data": {
            "text/plain": [
              "tensor([[ 4,  1],\n",
              "        [10,  3],\n",
              "        [ 2,  1]])"
            ]
          },
          "metadata": {},
          "execution_count": 24
        }
      ]
    },
    {
      "cell_type": "code",
      "source": [
        "#clone\n",
        "third_point=points[2].clone()\n",
        "third_point[0]=10\n",
        "points\n",
        "#did not change due to working with the clone"
      ],
      "metadata": {
        "colab": {
          "base_uri": "https://localhost:8080/"
        },
        "id": "nSC0cR_a-G0O",
        "outputId": "709f5419-9dbc-4b0e-eb1e-1ac6668f4d5c"
      },
      "execution_count": null,
      "outputs": [
        {
          "output_type": "execute_result",
          "data": {
            "text/plain": [
              "tensor([[ 4,  1],\n",
              "        [10,  3],\n",
              "        [ 2,  1]])"
            ]
          },
          "metadata": {},
          "execution_count": 25
        }
      ]
    },
    {
      "cell_type": "markdown",
      "source": [
        "<h3>Contiguous tensors</h3>\n",
        "Some tensor operations in PyTorch only work on contiguous tensors, such as view."
      ],
      "metadata": {
        "id": "qOAZUm06Hoi8"
      }
    },
    {
      "cell_type": "code",
      "source": [
        "points.is_contiguous()"
      ],
      "metadata": {
        "colab": {
          "base_uri": "https://localhost:8080/"
        },
        "id": "oyd87ttS-l_t",
        "outputId": "aebee9e4-4b93-4f74-d672-57ba623f1c71"
      },
      "execution_count": null,
      "outputs": [
        {
          "output_type": "execute_result",
          "data": {
            "text/plain": [
              "True"
            ]
          },
          "metadata": {},
          "execution_count": 26
        }
      ]
    },
    {
      "cell_type": "code",
      "source": [
        "points_t.is_contiguous()"
      ],
      "metadata": {
        "colab": {
          "base_uri": "https://localhost:8080/"
        },
        "id": "6MaVq8OvICNk",
        "outputId": "b381fb9b-4dff-4a83-92c4-11b3d8f49214"
      },
      "execution_count": null,
      "outputs": [
        {
          "output_type": "execute_result",
          "data": {
            "text/plain": [
              "False"
            ]
          },
          "metadata": {},
          "execution_count": 27
        }
      ]
    },
    {
      "cell_type": "markdown",
      "source": [
        "We can obtain a new contiguous tensor from a non-contiguous one using the contiguous method. When a tensor is transposed, the stride is changed instead of changeing the storage memory. For changing the memory and the way of storing elements of tensors, we can make the storage continueus by contiguous() function."
      ],
      "metadata": {
        "id": "qv_9P4EFIOuP"
      }
    },
    {
      "cell_type": "markdown",
      "source": [
        "<h3>Moving tensors to the GPU"
      ],
      "metadata": {
        "id": "6now-aizPkbd"
      }
    },
    {
      "cell_type": "code",
      "source": [
        "#points_gpu=points.to(device=\"cuda\")"
      ],
      "metadata": {
        "id": "ww8_p_PUIQ4u"
      },
      "execution_count": null,
      "outputs": []
    },
    {
      "cell_type": "code",
      "source": [
        "#numpy and torch\n",
        "points=torch.ones(3,4)\n",
        "points_np=points.numpy()# to numpy\n",
        "points_np\n",
        "points=torch.from_numpy(points_np)#from numpy\n",
        "points"
      ],
      "metadata": {
        "colab": {
          "base_uri": "https://localhost:8080/"
        },
        "id": "Hl6pjes1WkG2",
        "outputId": "967d63f9-eeae-4018-f5b6-b3b9c5c6c4e1"
      },
      "execution_count": null,
      "outputs": [
        {
          "output_type": "execute_result",
          "data": {
            "text/plain": [
              "tensor([[1., 1., 1., 1.],\n",
              "        [1., 1., 1., 1.],\n",
              "        [1., 1., 1., 1.]])"
            ]
          },
          "metadata": {},
          "execution_count": 31
        }
      ]
    },
    {
      "cell_type": "markdown",
      "source": [
        "<h3>Saving the tensors</h3>"
      ],
      "metadata": {
        "id": "CXiyfESdYxbr"
      }
    },
    {
      "cell_type": "code",
      "source": [
        "with open(\"ourpoints.t\",'wb') as f:\n",
        "  torch.save(points,f)"
      ],
      "metadata": {
        "id": "hYgwp1V7W-cV"
      },
      "execution_count": null,
      "outputs": []
    },
    {
      "cell_type": "code",
      "source": [
        "points=torch.load(\"ourpoints.t\")\n",
        "points"
      ],
      "metadata": {
        "colab": {
          "base_uri": "https://localhost:8080/"
        },
        "id": "kFn2b9m5ZjMa",
        "outputId": "119b79ca-753f-4d8b-c4c7-87f2e7824cec"
      },
      "execution_count": null,
      "outputs": [
        {
          "output_type": "execute_result",
          "data": {
            "text/plain": [
              "tensor([[1., 1., 1., 1.],\n",
              "        [1., 1., 1., 1.],\n",
              "        [1., 1., 1., 1.]])"
            ]
          },
          "metadata": {},
          "execution_count": 34
        }
      ]
    },
    {
      "cell_type": "code",
      "source": [],
      "metadata": {
        "id": "FXkXQPCrZsVe"
      },
      "execution_count": null,
      "outputs": []
    }
  ]
}